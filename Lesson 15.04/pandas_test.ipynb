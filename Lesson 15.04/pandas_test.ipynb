{
 "cells": [
  {
   "cell_type": "code",
   "execution_count": 1,
   "metadata": {},
   "outputs": [],
   "source": [
    "import pandas as pd"
   ]
  },
  {
   "cell_type": "code",
   "execution_count": 3,
   "metadata": {},
   "outputs": [
    {
     "data": {
      "text/plain": [
       "Index(['Unnamed: 0', 'title', 'href', 'company', 'requirement', 'salary'], dtype='object')"
      ]
     },
     "execution_count": 3,
     "metadata": {},
     "output_type": "execute_result"
    }
   ],
   "source": [
    "df = pd.read_csv(\"kek.csv\")\n",
    "df.columns"
   ]
  },
  {
   "cell_type": "code",
   "execution_count": 5,
   "metadata": {},
   "outputs": [],
   "source": [
    "df.drop('Unnamed: 0', axis = 1, inplace = True)"
   ]
  },
  {
   "cell_type": "code",
   "execution_count": 6,
   "metadata": {},
   "outputs": [
    {
     "data": {
      "text/html": [
       "<div>\n",
       "<style scoped>\n",
       "    .dataframe tbody tr th:only-of-type {\n",
       "        vertical-align: middle;\n",
       "    }\n",
       "\n",
       "    .dataframe tbody tr th {\n",
       "        vertical-align: top;\n",
       "    }\n",
       "\n",
       "    .dataframe thead th {\n",
       "        text-align: right;\n",
       "    }\n",
       "</style>\n",
       "<table border=\"1\" class=\"dataframe\">\n",
       "  <thead>\n",
       "    <tr style=\"text-align: right;\">\n",
       "      <th></th>\n",
       "      <th>title</th>\n",
       "      <th>href</th>\n",
       "      <th>company</th>\n",
       "      <th>requirement</th>\n",
       "      <th>salary</th>\n",
       "    </tr>\n",
       "  </thead>\n",
       "  <tbody>\n",
       "    <tr>\n",
       "      <th>0</th>\n",
       "      <td>Разработчик Python</td>\n",
       "      <td>https://hh.ru/vacancy/30451399?query=Python</td>\n",
       "      <td>Открытые Технологии</td>\n",
       "      <td>Знание языка Python (версия 2 и 3). Опыт работ...</td>\n",
       "      <td>150000.0</td>\n",
       "    </tr>\n",
       "    <tr>\n",
       "      <th>1</th>\n",
       "      <td>Разработчик Python</td>\n",
       "      <td>https://hh.ru/vacancy/31067847?query=Python</td>\n",
       "      <td>ООО Коннектом</td>\n",
       "      <td>Инициативность и целеустремленность. Хорошее з...</td>\n",
       "      <td>160000.0</td>\n",
       "    </tr>\n",
       "    <tr>\n",
       "      <th>2</th>\n",
       "      <td>Python / Django developer</td>\n",
       "      <td>https://hh.ru/vacancy/30226206?query=Python</td>\n",
       "      <td>NetworkOptix</td>\n",
       "      <td>Bachelor or master degree in STEM field. Exper...</td>\n",
       "      <td>4000.0</td>\n",
       "    </tr>\n",
       "    <tr>\n",
       "      <th>3</th>\n",
       "      <td>Программист Python</td>\n",
       "      <td>https://hh.ru/vacancy/30109493?query=Python</td>\n",
       "      <td>Star-staff</td>\n",
       "      <td>Коммерческий опыт на Python минимум 2-3 года. ...</td>\n",
       "      <td>145000.0</td>\n",
       "    </tr>\n",
       "    <tr>\n",
       "      <th>4</th>\n",
       "      <td>Разработчик Python</td>\n",
       "      <td>https://hh.ru/vacancy/30424698?query=Python</td>\n",
       "      <td>ООО ВижнЛабс (VisionLabs)</td>\n",
       "      <td>Необходимый опыт и знания: - Широкий опыт разр...</td>\n",
       "      <td>120000.0</td>\n",
       "    </tr>\n",
       "  </tbody>\n",
       "</table>\n",
       "</div>"
      ],
      "text/plain": [
       "                       title                                         href  \\\n",
       "0         Разработчик Python  https://hh.ru/vacancy/30451399?query=Python   \n",
       "1         Разработчик Python  https://hh.ru/vacancy/31067847?query=Python   \n",
       "2  Python / Django developer  https://hh.ru/vacancy/30226206?query=Python   \n",
       "3         Программист Python  https://hh.ru/vacancy/30109493?query=Python   \n",
       "4         Разработчик Python  https://hh.ru/vacancy/30424698?query=Python   \n",
       "\n",
       "                     company  \\\n",
       "0        Открытые Технологии   \n",
       "1              ООО Коннектом   \n",
       "2               NetworkOptix   \n",
       "3                 Star-staff   \n",
       "4  ООО ВижнЛабс (VisionLabs)   \n",
       "\n",
       "                                         requirement    salary  \n",
       "0  Знание языка Python (версия 2 и 3). Опыт работ...  150000.0  \n",
       "1  Инициативность и целеустремленность. Хорошее з...  160000.0  \n",
       "2  Bachelor or master degree in STEM field. Exper...    4000.0  \n",
       "3  Коммерческий опыт на Python минимум 2-3 года. ...  145000.0  \n",
       "4  Необходимый опыт и знания: - Широкий опыт разр...  120000.0  "
      ]
     },
     "execution_count": 6,
     "metadata": {},
     "output_type": "execute_result"
    }
   ],
   "source": [
    "df.head()"
   ]
  },
  {
   "cell_type": "code",
   "execution_count": 8,
   "metadata": {},
   "outputs": [],
   "source": [
    "df = df.dropna()"
   ]
  },
  {
   "cell_type": "code",
   "execution_count": 12,
   "metadata": {},
   "outputs": [
    {
     "data": {
      "text/plain": [
       "0     Знание языка Python (версия 2 и 3). Опыт работ...\n",
       "1     Инициативность и целеустремленность. Хорошее з...\n",
       "2     Bachelor or master degree in STEM field. Exper...\n",
       "3     Коммерческий опыт на Python минимум 2-3 года. ...\n",
       "4     Необходимый опыт и знания: - Широкий опыт разр...\n",
       "5     Опыт коммерческой разработки на Python от 2-х ...\n",
       "6     Опыт разработки на Python не менее 3 лет, разр...\n",
       "7     опыт организации асинхронных API на Celery (Py...\n",
       "8     Любопытство и жажда знаний. Доброжелательность...\n",
       "9     Python-разработчик, найдись! Уверенное владени...\n",
       "10    Знание Python на уровне Middle. Опыт работы в ...\n",
       "12    Опыт работы: Python(Flask, BeautifulSoup, Spla...\n",
       "Name: requirement, dtype: object"
      ]
     },
     "execution_count": 12,
     "metadata": {},
     "output_type": "execute_result"
    }
   ],
   "source": [
    "df['requirement']"
   ]
  },
  {
   "cell_type": "code",
   "execution_count": null,
   "metadata": {},
   "outputs": [],
   "source": []
  }
 ],
 "metadata": {
  "kernelspec": {
   "display_name": "Python 3",
   "language": "python",
   "name": "python3"
  },
  "language_info": {
   "codemirror_mode": {
    "name": "ipython",
    "version": 3
   },
   "file_extension": ".py",
   "mimetype": "text/x-python",
   "name": "python",
   "nbconvert_exporter": "python",
   "pygments_lexer": "ipython3",
   "version": "3.6.8"
  }
 },
 "nbformat": 4,
 "nbformat_minor": 2
}
